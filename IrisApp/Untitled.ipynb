{
 "cells": [
  {
   "cell_type": "code",
   "execution_count": null,
   "id": "321e9a18-3a93-4cef-a32c-92c5d966a6d9",
   "metadata": {},
   "outputs": [],
   "source": [
    "import pandas as pd\n",
    "import sklearn\n",
    "from sklearn.model_selection import train_test_split\n",
    "from sklearn import neighbors\n",
    "import numpy as np\n",
    "from sklearn.metrics import accuracy_score"
   ]
  },
  {
   "cell_type": "code",
   "execution_count": null,
   "id": "532cf2bb-eb4f-4e0b-b79e-9c07b3f163de",
   "metadata": {},
   "outputs": [],
   "source": [
    "df = pd.read_csv(\"Iris.csv\")"
   ]
  },
  {
   "cell_type": "code",
   "execution_count": null,
   "id": "9dee1ded-e7a9-4674-9921-cb6b35d203e9",
   "metadata": {},
   "outputs": [
    {
     "data": {
      "text/html": [
       "<div>\n",
       "<style scoped>\n",
       "    .dataframe tbody tr th:only-of-type {\n",
       "        vertical-align: middle;\n",
       "    }\n",
       "\n",
       "    .dataframe tbody tr th {\n",
       "        vertical-align: top;\n",
       "    }\n",
       "\n",
       "    .dataframe thead th {\n",
       "        text-align: right;\n",
       "    }\n",
       "</style>\n",
       "<table border=\"1\" class=\"dataframe\">\n",
       "  <thead>\n",
       "    <tr style=\"text-align: right;\">\n",
       "      <th></th>\n",
       "      <th>Id</th>\n",
       "      <th>SepalLengthCm</th>\n",
       "      <th>SepalWidthCm</th>\n",
       "      <th>PetalLengthCm</th>\n",
       "      <th>PetalWidthCm</th>\n",
       "      <th>Species</th>\n",
       "    </tr>\n",
       "  </thead>\n",
       "  <tbody>\n",
       "    <tr>\n",
       "      <th>0</th>\n",
       "      <td>1</td>\n",
       "      <td>5.1</td>\n",
       "      <td>3.5</td>\n",
       "      <td>1.4</td>\n",
       "      <td>0.2</td>\n",
       "      <td>Iris-setosa</td>\n",
       "    </tr>\n",
       "    <tr>\n",
       "      <th>1</th>\n",
       "      <td>2</td>\n",
       "      <td>4.9</td>\n",
       "      <td>3.0</td>\n",
       "      <td>1.4</td>\n",
       "      <td>0.2</td>\n",
       "      <td>Iris-setosa</td>\n",
       "    </tr>\n",
       "    <tr>\n",
       "      <th>2</th>\n",
       "      <td>3</td>\n",
       "      <td>4.7</td>\n",
       "      <td>3.2</td>\n",
       "      <td>1.3</td>\n",
       "      <td>0.2</td>\n",
       "      <td>Iris-setosa</td>\n",
       "    </tr>\n",
       "    <tr>\n",
       "      <th>3</th>\n",
       "      <td>4</td>\n",
       "      <td>4.6</td>\n",
       "      <td>3.1</td>\n",
       "      <td>1.5</td>\n",
       "      <td>0.2</td>\n",
       "      <td>Iris-setosa</td>\n",
       "    </tr>\n",
       "    <tr>\n",
       "      <th>4</th>\n",
       "      <td>5</td>\n",
       "      <td>5.0</td>\n",
       "      <td>3.6</td>\n",
       "      <td>1.4</td>\n",
       "      <td>0.2</td>\n",
       "      <td>Iris-setosa</td>\n",
       "    </tr>\n",
       "  </tbody>\n",
       "</table>\n",
       "</div>"
      ],
      "text/plain": [
       "   Id  SepalLengthCm  SepalWidthCm  PetalLengthCm  PetalWidthCm      Species\n",
       "0   1            5.1           3.5            1.4           0.2  Iris-setosa\n",
       "1   2            4.9           3.0            1.4           0.2  Iris-setosa\n",
       "2   3            4.7           3.2            1.3           0.2  Iris-setosa\n",
       "3   4            4.6           3.1            1.5           0.2  Iris-setosa\n",
       "4   5            5.0           3.6            1.4           0.2  Iris-setosa"
      ]
     },
     "execution_count": 3,
     "metadata": {},
     "output_type": "execute_result"
    }
   ],
   "source": [
    "df.head()"
   ]
  },
  {
   "cell_type": "code",
   "execution_count": null,
   "id": "b4b9ff3a-e2ae-443e-af56-c44f0758782e",
   "metadata": {},
   "outputs": [],
   "source": [
    "X = df[[\"SepalLengthCm\", \"SepalWidthCm\", \"PetalLengthCm\", \"PetalWidthCm\"]]\n",
    "y = df[[\"Species\"]]\n",
    "X_train, X_test, y_train, y_test = train_test_split(X, y, test_size=0.2, random_state = 42)"
   ]
  },
  {
   "cell_type": "code",
   "execution_count": null,
   "id": "48a4b9e2-6466-4525-9634-ef449aa0a908",
   "metadata": {},
   "outputs": [
    {
     "data": {
      "text/plain": [
       "KNeighborsClassifier()"
      ]
     },
     "execution_count": 5,
     "metadata": {},
     "output_type": "execute_result"
    }
   ],
   "source": [
    "model = neighbors.KNeighborsClassifier()\n",
    "model.fit(X_train, np.ravel(y_train))"
   ]
  },
  {
   "cell_type": "code",
   "execution_count": null,
   "id": "8c47e412-fc6f-4732-80ba-3822f4ac5d36",
   "metadata": {},
   "outputs": [
    {
     "name": "stdout",
     "output_type": "stream",
     "text": [
      "1.0\n"
     ]
    }
   ],
   "source": [
    "predictions=model.predict(X_test)\n",
    "print(accuracy_score(y_test,predictions))"
   ]
  },
  {
   "cell_type": "code",
   "execution_count": null,
   "id": "f250eea5-e532-404c-9964-fcb796dec062",
   "metadata": {},
   "outputs": [],
   "source": [
    "pd.to_pickle(model, 'KNN_model.pickle')"
   ]
  },
  {
   "cell_type": "code",
   "execution_count": null,
   "id": "0e62e43c-61ed-4216-a534-680925e54496",
   "metadata": {},
   "outputs": [],
   "source": [
    "model = pd.read_pickle('KNN_model.pickle')"
   ]
  },
  {
   "cell_type": "code",
   "execution_count": 9,
   "id": "08147d4f-792d-4df0-935b-eaad8ffaf29d",
   "metadata": {},
   "outputs": [
    {
     "ename": "KeyboardInterrupt",
     "evalue": "Interrupted by user",
     "output_type": "error",
     "traceback": [
      "\u001b[1;31m---------------------------------------------------------------------------\u001b[0m",
      "\u001b[1;31mKeyboardInterrupt\u001b[0m                         Traceback (most recent call last)",
      "\u001b[1;32mc:\\Users\\WWTDev - Zinaid\\Documents\\GitHub\\DjangoML\\IrisApp\\Untitled.ipynb Cell 9'\u001b[0m in \u001b[0;36m<cell line: 1>\u001b[1;34m()\u001b[0m\n\u001b[1;32m----> <a href='vscode-notebook-cell:/c%3A/Users/WWTDev%20-%20Zinaid/Documents/GitHub/DjangoML/IrisApp/Untitled.ipynb#ch0000008?line=0'>1</a>\u001b[0m SepalLengthCm \u001b[39m=\u001b[39m \u001b[39mfloat\u001b[39m(\u001b[39minput\u001b[39;49m())\n\u001b[0;32m      <a href='vscode-notebook-cell:/c%3A/Users/WWTDev%20-%20Zinaid/Documents/GitHub/DjangoML/IrisApp/Untitled.ipynb#ch0000008?line=1'>2</a>\u001b[0m SepalWidthCm \u001b[39m=\u001b[39m \u001b[39mfloat\u001b[39m(\u001b[39minput\u001b[39m())\n\u001b[0;32m      <a href='vscode-notebook-cell:/c%3A/Users/WWTDev%20-%20Zinaid/Documents/GitHub/DjangoML/IrisApp/Untitled.ipynb#ch0000008?line=2'>3</a>\u001b[0m PetalLengthCm \u001b[39m=\u001b[39m \u001b[39mfloat\u001b[39m(\u001b[39minput\u001b[39m())\n",
      "File \u001b[1;32mc:\\Users\\WWTDev - Zinaid\\AppData\\Local\\Programs\\Python\\Python39\\lib\\site-packages\\ipykernel\\kernelbase.py:1161\u001b[0m, in \u001b[0;36mKernel.raw_input\u001b[1;34m(self, prompt)\u001b[0m\n\u001b[0;32m   <a href='file:///c%3A/Users/WWTDev%20-%20Zinaid/AppData/Local/Programs/Python/Python39/lib/site-packages/ipykernel/kernelbase.py?line=1156'>1157</a>\u001b[0m \u001b[39mif\u001b[39;00m \u001b[39mnot\u001b[39;00m \u001b[39mself\u001b[39m\u001b[39m.\u001b[39m_allow_stdin:\n\u001b[0;32m   <a href='file:///c%3A/Users/WWTDev%20-%20Zinaid/AppData/Local/Programs/Python/Python39/lib/site-packages/ipykernel/kernelbase.py?line=1157'>1158</a>\u001b[0m     \u001b[39mraise\u001b[39;00m StdinNotImplementedError(\n\u001b[0;32m   <a href='file:///c%3A/Users/WWTDev%20-%20Zinaid/AppData/Local/Programs/Python/Python39/lib/site-packages/ipykernel/kernelbase.py?line=1158'>1159</a>\u001b[0m         \u001b[39m\"\u001b[39m\u001b[39mraw_input was called, but this frontend does not support input requests.\u001b[39m\u001b[39m\"\u001b[39m\n\u001b[0;32m   <a href='file:///c%3A/Users/WWTDev%20-%20Zinaid/AppData/Local/Programs/Python/Python39/lib/site-packages/ipykernel/kernelbase.py?line=1159'>1160</a>\u001b[0m     )\n\u001b[1;32m-> <a href='file:///c%3A/Users/WWTDev%20-%20Zinaid/AppData/Local/Programs/Python/Python39/lib/site-packages/ipykernel/kernelbase.py?line=1160'>1161</a>\u001b[0m \u001b[39mreturn\u001b[39;00m \u001b[39mself\u001b[39;49m\u001b[39m.\u001b[39;49m_input_request(\n\u001b[0;32m   <a href='file:///c%3A/Users/WWTDev%20-%20Zinaid/AppData/Local/Programs/Python/Python39/lib/site-packages/ipykernel/kernelbase.py?line=1161'>1162</a>\u001b[0m     \u001b[39mstr\u001b[39;49m(prompt),\n\u001b[0;32m   <a href='file:///c%3A/Users/WWTDev%20-%20Zinaid/AppData/Local/Programs/Python/Python39/lib/site-packages/ipykernel/kernelbase.py?line=1162'>1163</a>\u001b[0m     \u001b[39mself\u001b[39;49m\u001b[39m.\u001b[39;49m_parent_ident[\u001b[39m\"\u001b[39;49m\u001b[39mshell\u001b[39;49m\u001b[39m\"\u001b[39;49m],\n\u001b[0;32m   <a href='file:///c%3A/Users/WWTDev%20-%20Zinaid/AppData/Local/Programs/Python/Python39/lib/site-packages/ipykernel/kernelbase.py?line=1163'>1164</a>\u001b[0m     \u001b[39mself\u001b[39;49m\u001b[39m.\u001b[39;49mget_parent(\u001b[39m\"\u001b[39;49m\u001b[39mshell\u001b[39;49m\u001b[39m\"\u001b[39;49m),\n\u001b[0;32m   <a href='file:///c%3A/Users/WWTDev%20-%20Zinaid/AppData/Local/Programs/Python/Python39/lib/site-packages/ipykernel/kernelbase.py?line=1164'>1165</a>\u001b[0m     password\u001b[39m=\u001b[39;49m\u001b[39mFalse\u001b[39;49;00m,\n\u001b[0;32m   <a href='file:///c%3A/Users/WWTDev%20-%20Zinaid/AppData/Local/Programs/Python/Python39/lib/site-packages/ipykernel/kernelbase.py?line=1165'>1166</a>\u001b[0m )\n",
      "File \u001b[1;32mc:\\Users\\WWTDev - Zinaid\\AppData\\Local\\Programs\\Python\\Python39\\lib\\site-packages\\ipykernel\\kernelbase.py:1205\u001b[0m, in \u001b[0;36mKernel._input_request\u001b[1;34m(self, prompt, ident, parent, password)\u001b[0m\n\u001b[0;32m   <a href='file:///c%3A/Users/WWTDev%20-%20Zinaid/AppData/Local/Programs/Python/Python39/lib/site-packages/ipykernel/kernelbase.py?line=1201'>1202</a>\u001b[0m             \u001b[39mbreak\u001b[39;00m\n\u001b[0;32m   <a href='file:///c%3A/Users/WWTDev%20-%20Zinaid/AppData/Local/Programs/Python/Python39/lib/site-packages/ipykernel/kernelbase.py?line=1202'>1203</a>\u001b[0m \u001b[39mexcept\u001b[39;00m \u001b[39mKeyboardInterrupt\u001b[39;00m:\n\u001b[0;32m   <a href='file:///c%3A/Users/WWTDev%20-%20Zinaid/AppData/Local/Programs/Python/Python39/lib/site-packages/ipykernel/kernelbase.py?line=1203'>1204</a>\u001b[0m     \u001b[39m# re-raise KeyboardInterrupt, to truncate traceback\u001b[39;00m\n\u001b[1;32m-> <a href='file:///c%3A/Users/WWTDev%20-%20Zinaid/AppData/Local/Programs/Python/Python39/lib/site-packages/ipykernel/kernelbase.py?line=1204'>1205</a>\u001b[0m     \u001b[39mraise\u001b[39;00m \u001b[39mKeyboardInterrupt\u001b[39;00m(\u001b[39m\"\u001b[39m\u001b[39mInterrupted by user\u001b[39m\u001b[39m\"\u001b[39m) \u001b[39mfrom\u001b[39;00m \u001b[39mNone\u001b[39m\n\u001b[0;32m   <a href='file:///c%3A/Users/WWTDev%20-%20Zinaid/AppData/Local/Programs/Python/Python39/lib/site-packages/ipykernel/kernelbase.py?line=1205'>1206</a>\u001b[0m \u001b[39mexcept\u001b[39;00m \u001b[39mException\u001b[39;00m:\n\u001b[0;32m   <a href='file:///c%3A/Users/WWTDev%20-%20Zinaid/AppData/Local/Programs/Python/Python39/lib/site-packages/ipykernel/kernelbase.py?line=1206'>1207</a>\u001b[0m     \u001b[39mself\u001b[39m\u001b[39m.\u001b[39mlog\u001b[39m.\u001b[39mwarning(\u001b[39m\"\u001b[39m\u001b[39mInvalid Message:\u001b[39m\u001b[39m\"\u001b[39m, exc_info\u001b[39m=\u001b[39m\u001b[39mTrue\u001b[39;00m)\n",
      "\u001b[1;31mKeyboardInterrupt\u001b[0m: Interrupted by user"
     ]
    }
   ],
   "source": [
    "SepalLengthCm = float(input())\n",
    "SepalWidthCm = float(input())\n",
    "PetalLengthCm = float(input())\n",
    "PetalWidthCm = float(input())"
   ]
  },
  {
   "cell_type": "code",
   "execution_count": 10,
   "id": "18f43045-5a88-4e7d-9c42-c72b4b256279",
   "metadata": {},
   "outputs": [
    {
     "ename": "NameError",
     "evalue": "name 'SepalLengthCm' is not defined",
     "output_type": "error",
     "traceback": [
      "\u001b[1;31m---------------------------------------------------------------------------\u001b[0m",
      "\u001b[1;31mNameError\u001b[0m                                 Traceback (most recent call last)",
      "\u001b[1;32mc:\\Users\\WWTDev - Zinaid\\Documents\\GitHub\\DjangoML\\IrisApp\\Untitled.ipynb Cell 10'\u001b[0m in \u001b[0;36m<cell line: 1>\u001b[1;34m()\u001b[0m\n\u001b[1;32m----> <a href='vscode-notebook-cell:/c%3A/Users/WWTDev%20-%20Zinaid/Documents/GitHub/DjangoML/IrisApp/Untitled.ipynb#ch0000009?line=0'>1</a>\u001b[0m result \u001b[39m=\u001b[39m model\u001b[39m.\u001b[39mpredict([[SepalLengthCm,SepalWidthCm, PetalLengthCm, PetalWidthCm]])\n",
      "\u001b[1;31mNameError\u001b[0m: name 'SepalLengthCm' is not defined"
     ]
    }
   ],
   "source": [
    "result = model.predict([[SepalLengthCm,SepalWidthCm, PetalLengthCm, PetalWidthCm]])"
   ]
  },
  {
   "cell_type": "code",
   "execution_count": 51,
   "id": "98922a7c-1998-49f4-bf08-7150eb5e4217",
   "metadata": {},
   "outputs": [
    {
     "name": "stdout",
     "output_type": "stream",
     "text": [
      "['Iris-virginica']\n"
     ]
    }
   ],
   "source": [
    "print(result)"
   ]
  }
 ],
 "metadata": {
  "interpreter": {
   "hash": "b2617d6aefb478ed6d75246509090a5306a4c7e68249358d072ce620eed39b1d"
  },
  "kernelspec": {
   "display_name": "Python 3.9.0 64-bit",
   "language": "python",
   "name": "python3"
  },
  "language_info": {
   "codemirror_mode": {
    "name": "ipython",
    "version": 3
   },
   "file_extension": ".py",
   "mimetype": "text/x-python",
   "name": "python",
   "nbconvert_exporter": "python",
   "pygments_lexer": "ipython3",
   "version": "3.9.0"
  }
 },
 "nbformat": 4,
 "nbformat_minor": 5
}
